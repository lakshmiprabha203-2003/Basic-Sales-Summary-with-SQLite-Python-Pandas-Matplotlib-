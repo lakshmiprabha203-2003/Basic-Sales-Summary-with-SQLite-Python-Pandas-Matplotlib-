{
 "cells": [
  {
   "cell_type": "code",
   "execution_count": null,
   "id": "884af2d4-4c77-4bae-b7f1-6a6f92007216",
   "metadata": {},
   "outputs": [
    {
     "name": "stdout",
     "output_type": "stream",
     "text": [
      "Inserted sample sales data successfully.\n",
      "Empty DataFrame\n",
      "Columns: [product, total_qty, revenue]\n",
      "Index: []\n"
     ]
    }
   ],
   "source": [
    "\n",
    "import sqlite3\n",
    "import pandas as pd\n",
    "import matplotlib.pyplot as plt\n",
    "\n",
    "# This is how you create your small SQLite database file.\n",
    "conn = sqlite3.connect(\"sales_data.db\")\n",
    "# Creates a cursor object, which lets you send SQL commands (CREATE TABLE, INSERT, SELECT, etc.) to the database.\n",
    "cur = conn.cursor()\n",
    "\n",
    "# Sample sales rows (date, product, quantity, price)\n",
    "sales_rows = [\n",
    "    (\"2025-08-01\", \"Pen\", 10, 5.00),\n",
    "    (\"2025-08-01\", \"Notebook\", 5, 50.00),\n",
    "    (\"2025-08-02\", \"Pen\", 4, 5.00),\n",
    "    (\"2025-08-02\", \"Pencil\", 20, 2.00),\n",
    "    (\"2025-08-03\", \"Notebook\", 3, 50.00),\n",
    "    (\"2025-08-03\", \"Pencil\", 10, 2.00),\n",
    "]\n",
    "\n",
    "cur.execute(\"\"\"\n",
    "CREATE TABLE IF NOT EXISTS sales (\n",
    "    id INTEGER PRIMARY KEY AUTOINCREMENT,\n",
    "    date TEXT NOT NULL,\n",
    "    product TEXT NOT NULL,\n",
    "    quantity INTEGER NOT NULL,\n",
    "    price REAL NOT NULL\n",
    ");\n",
    "\"\"\")\n",
    "\n",
    "# Insert data\n",
    "cur.executemany(\n",
    "    \"INSERT INTO sales(date, product, quantity, price) VALUES (?,?,?,?)\",\n",
    "    sales_rows\n",
    ")\n",
    "conn.commit()\n",
    "\n",
    "\n",
    "print(\"Inserted sample sales data successfully.\")\\\n",
    "\n",
    "query = \"\"\"\n",
    "SELECT product,\n",
    "       SUM(quantity) AS total_qty,\n",
    "       SUM(quantity * price) AS revenue\n",
    "FROM sales\n",
    "GROUP BY product\n",
    "ORDER BY revenue DESC;\n",
    "\n",
    "\"\"\"\n",
    "cur.execute(\"DELETE FROM sales\")\n",
    "conn.commit()\n",
    "\n",
    "df = pd.read_sql_query(query, conn)\n",
    "print(df)\n",
    "df.plot(kind=\"bar\", x=\"product\", y=\"revenue\", legend=False)\n",
    "plt.show()\n",
    "conn.close()\n"
   ]
  }
 ],
 "metadata": {
  "kernelspec": {
   "display_name": "Python 3 (ipykernel)",
   "language": "python",
   "name": "python3"
  },
  "language_info": {
   "codemirror_mode": {
    "name": "ipython",
    "version": 3
   },
   "file_extension": ".py",
   "mimetype": "text/x-python",
   "name": "python",
   "nbconvert_exporter": "python",
   "pygments_lexer": "ipython3",
   "version": "3.12.7"
  }
 },
 "nbformat": 4,
 "nbformat_minor": 5
}
